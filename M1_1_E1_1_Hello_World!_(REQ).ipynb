{
  "nbformat": 4,
  "nbformat_minor": 0,
  "metadata": {
    "colab": {
      "provenance": [],
      "collapsed_sections": [],
      "include_colab_link": true
    },
    "kernelspec": {
      "name": "python3",
      "display_name": "Python 3"
    }
  },
  "cells": [
    {
      "cell_type": "markdown",
      "metadata": {
        "id": "view-in-github",
        "colab_type": "text"
      },
      "source": [
        "<a href=\"https://colab.research.google.com/github/WhiteMouseCoder/CS_DataScience/blob/main/M1_1_E1_1_Hello_World!_(REQ).ipynb\" target=\"_parent\"><img src=\"https://colab.research.google.com/assets/colab-badge.svg\" alt=\"Open In Colab\"/></a>"
      ]
    },
    {
      "cell_type": "markdown",
      "source": [
        "If you don't remember the first step, please click [here](https://learn.coderschool.vn/path-player?courseid=dv-m11-basic-python&unit=dv-m11-basic-python_624537766805eUnit) to review the Lab Guide"
      ],
      "metadata": {
        "id": "dN_XdK7VEiC3"
      }
    },
    {
      "cell_type": "markdown",
      "metadata": {
        "id": "MeIykz6CP75q"
      },
      "source": [
        "# **Hello World Lab 1**\n",
        "\n",
        "> ***NOTE:*** Some exercises below may be collected from an interview with big tech companies, like FAANG (Facebook, Amazon, Apple, Netflix, Google) and others like Microsoft, etc. Be sure to have a try!\n",
        "\n",
        "![](https://mksaad.files.wordpress.com/2019/03/introduction-to-python_watermarked.48eeee4e1109.jpg)"
      ]
    },
    {
      "cell_type": "markdown",
      "metadata": {
        "id": "qJ08vlPARyNQ"
      },
      "source": [
        "### Greetings"
      ]
    },
    {
      "cell_type": "markdown",
      "source": [
        "Write a program that greets the user\n",
        "\n",
        "The program should print out the the word \"Hello\", a comma, the name of the user and an exclamation mark after it. Your program's output should strictly match the desired one, character by character. There shouldn't be any space between the name and the exclamation mark. You can use + operator to concatenate two strings.\n",
        "\n",
        "*Example:*\n",
        "```python\n",
        ">>> Harry # input\n",
        "Hello, Harry! # output\n",
        "```\n",
        "\n",
        "*Hint*: section \"Input\" in the lecture"
      ],
      "metadata": {
        "id": "gTXY5jMm4LXj"
      }
    },
    {
      "cell_type": "code",
      "metadata": {
        "id": "zWp18zSOSEZg"
      },
      "source": [
        "# YOUR CODE HERE\n"
      ],
      "execution_count": null,
      "outputs": []
    },
    {
      "cell_type": "markdown",
      "metadata": {
        "id": "HswNu4QhSFK0"
      },
      "source": [
        "### Previous and next number\n"
      ]
    },
    {
      "cell_type": "markdown",
      "source": [
        "Write a program that reads an integer number and prints its previous and next numbers. See the example below.\n",
        "\n",
        "*Example:*\n",
        "```python\n",
        ">>> 179 # input\n",
        "178 # output previous number\n",
        "180 # output next number\n",
        "```"
      ],
      "metadata": {
        "id": "kzg7ZWKw4Ovq"
      }
    },
    {
      "cell_type": "code",
      "metadata": {
        "id": "Jm4UN0isSLsU"
      },
      "source": [
        "n = int(input())\n",
        "# YOUR CODE HERE\n"
      ],
      "execution_count": null,
      "outputs": []
    },
    {
      "cell_type": "markdown",
      "metadata": {
        "id": "1zJBKJmbRjSk"
      },
      "source": [
        "### Triangle area"
      ]
    },
    {
      "cell_type": "markdown",
      "source": [
        "Write a program that reads the length of the base and the height of a right-angled triangle and prints the area. \n",
        "Every number is given on a separate line.\n",
        "\n",
        "![](http://i.imgur.com/6EkzVxA.jpg)\n",
        "\n",
        "*Example:*\n",
        "```python\n",
        ">>> 3 # input variable b\n",
        ">>> 5 # input variable h\n",
        "7.5 # output\n",
        "```\n",
        "\n",
        "*Hint*: section \"Input\" & \"Variable\" in the lecture"
      ],
      "metadata": {
        "id": "R9es0gEW4TLg"
      }
    },
    {
      "cell_type": "code",
      "metadata": {
        "id": "-dv2VIvBT17s"
      },
      "source": [
        "# YOUR CODE HERE\n"
      ],
      "execution_count": null,
      "outputs": []
    },
    {
      "cell_type": "markdown",
      "metadata": {
        "id": "_mWEl-i9Tb4s"
      },
      "source": [
        "### Print digits"
      ]
    },
    {
      "cell_type": "markdown",
      "source": [
        "Given a two-digit integer (10-99), print its left digit (a tens digit) and then its right digit (a ones digit) separately with a space in between. \n",
        "\n",
        "*Example:*\n",
        "```python\n",
        ">>> 79 # input\n",
        "7 9 # output\n",
        "```\n",
        "\n",
        "*Hint*: Use the operator of integer division `/` for obtaining the tens digit and the operator of modulo `%` for obtaining the ones digit. "
      ],
      "metadata": {
        "id": "LhaXECm_4V6A"
      }
    },
    {
      "cell_type": "code",
      "metadata": {
        "id": "7gQyQTQfTWXL"
      },
      "source": [
        "# YOUR CODE HERE\n"
      ],
      "execution_count": null,
      "outputs": []
    },
    {
      "cell_type": "markdown",
      "metadata": {
        "id": "w88WowNQSRF7"
      },
      "source": [
        "### Divide apples"
      ]
    },
    {
      "cell_type": "markdown",
      "source": [
        "N students take K apples and distribute them among each other evenly. The remaining (the indivisible) part remains in the basket. How many apples will each single student get? How many apples will remain in the basket?\n",
        "\n",
        "The program reads the numbers N and K. It should print the two answers for the questions above.\n",
        "\n",
        "*Example:*\n",
        "```python\n",
        ">>> 6  # input N\n",
        ">>> 50 # input K\n",
        "8 # output apples per students\n",
        "2 # output apples remaining in basket\n",
        "```"
      ],
      "metadata": {
        "id": "1VhlN7bl4Ye1"
      }
    },
    {
      "cell_type": "code",
      "metadata": {
        "id": "Pd92LGDvSjN4"
      },
      "source": [
        "# YOUR CODE HERE\n"
      ],
      "execution_count": null,
      "outputs": []
    },
    {
      "cell_type": "markdown",
      "metadata": {
        "id": "RPbwawSgUZkf"
      },
      "source": [
        "### Cupcake cost"
      ]
    },
    {
      "cell_type": "markdown",
      "source": [
        "A cupcake costs A dollars and B cents. Determine, how many dollars and cents should one pay for N cupcakes. A program gets three numbers: A, B, N. It should print two numbers: total cost in dollars and cents. Note: 1 dollar = 100 cents.\n",
        "\n",
        "*Example:*\n",
        "```python\n",
        ">>> 10 # input A\n",
        ">>> 15 # input B\n",
        ">>> 10  # input N\n",
        "101 # output dollar\n",
        "50 # output cents\n",
        "```"
      ],
      "metadata": {
        "id": "bIx4FzMf4bAT"
      }
    },
    {
      "cell_type": "code",
      "metadata": {
        "id": "-SZoTwObUnXr"
      },
      "source": [
        "# YOUR CODE HERE\n"
      ],
      "execution_count": null,
      "outputs": []
    },
    {
      "cell_type": "markdown",
      "metadata": {
        "id": "IH99j6iYTmhI"
      },
      "source": [
        "### Swap digits"
      ]
    },
    {
      "cell_type": "markdown",
      "source": [
        "Given a two-digit integer, swap its digits and print the result. \n",
        "\n",
        "*Example:*\n",
        "```python\n",
        ">>> 79 # input\n",
        "97 # output\n",
        "```"
      ],
      "metadata": {
        "id": "Ex7RUzTB4dfK"
      }
    },
    {
      "cell_type": "code",
      "metadata": {
        "id": "AuCJbXHmTtQf"
      },
      "source": [
        "# YOUR CODE HERE\n"
      ],
      "execution_count": null,
      "outputs": []
    }
  ]
}